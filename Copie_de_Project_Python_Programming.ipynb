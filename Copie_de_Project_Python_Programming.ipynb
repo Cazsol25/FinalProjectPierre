{
  "nbformat": 4,
  "nbformat_minor": 0,
  "metadata": {
    "colab": {
      "provenance": [],
      "mount_file_id": "11EPDrO36dsgZGk5W5YufUZbze5rZWuca",
      "authorship_tag": "ABX9TyP3p4OVz/uCs33EFbREvtAa",
      "include_colab_link": true
    },
    "kernelspec": {
      "name": "python3",
      "display_name": "Python 3"
    },
    "language_info": {
      "name": "python"
    }
  },
  "cells": [
    {
      "cell_type": "markdown",
      "metadata": {
        "id": "view-in-github",
        "colab_type": "text"
      },
      "source": [
        "<a href=\"https://colab.research.google.com/github/Cazsol25/FinalProjectPierre/blob/main/Copie_de_Project_Python_Programming.ipynb\" target=\"_parent\"><img src=\"https://colab.research.google.com/assets/colab-badge.svg\" alt=\"Open In Colab\"/></a>"
      ]
    },
    {
      "cell_type": "markdown",
      "source": [
        "Introduction : First, I decided to use this dataset because it is manageable in size as it was requested in the instruction so it should not be a too heavy file. Then it respects a possible business scenario and I found that data looks relevant. It includes the number of sales per product but also the method of payment used for each transaction, the fact of knowing the total paid for each transaction (if there is 1 or more products buy) and also the customer satisfaction. This variety of data allows an interesting analysis and a multitude of possible visualisations."
      ],
      "metadata": {
        "id": "31wfLOt_45fx"
      }
    },
    {
      "cell_type": "markdown",
      "source": [
        "**Step 1: Select a Dataset (canteen_shop_data)**"
      ],
      "metadata": {
        "id": "Bjb9CTW_lXj6"
      }
    },
    {
      "cell_type": "code",
      "source": [
        "import pandas as pd"
      ],
      "metadata": {
        "id": "bRnMgqeExDVC"
      },
      "execution_count": 25,
      "outputs": []
    },
    {
      "cell_type": "code",
      "source": [
        "canteen = pd.read_csv(\"https://raw.githubusercontent.com/Cazsol25/FinalProject/refs/heads/main/canteen_shop_data.csv\")\n",
        "canteen.head()"
      ],
      "metadata": {
        "colab": {
          "base_uri": "https://localhost:8080/",
          "height": 206
        },
        "id": "WtkKc2bPLRIC",
        "outputId": "b24c998e-5354-4ccc-b091-21e256b3c19b"
      },
      "execution_count": 26,
      "outputs": [
        {
          "output_type": "execute_result",
          "data": {
            "text/plain": [
              "         Date   Time      Item  Price  Quantity  Total  Customer ID  \\\n",
              "0  2024-04-01  12:15  Sandwich    4.5         2    9.0            1   \n",
              "1  2024-04-01  12:30     Drink    1.5         1    1.5            2   \n",
              "2  2024-04-01  12:45     Salad    5.0         1    5.0            3   \n",
              "3  2024-04-01  13:00    Burger    5.5         1    5.5            4   \n",
              "4  2024-04-01  13:15  Sandwich    4.5         1    4.5            5   \n",
              "\n",
              "   Payment Method  Employee ID  Customer Satisfaction Weather Special Offers  \n",
              "0            Cash          101                      4   Sunny            Yes  \n",
              "1            Card          102                      3   Sunny             No  \n",
              "2  Mobile Payment          103                      5  Cloudy            Yes  \n",
              "3            Cash          104                      4   Sunny             No  \n",
              "4            Card          105                      3   Sunny            Yes  "
            ],
            "text/html": [
              "\n",
              "  <div id=\"df-4fde9e7a-eedf-4688-97de-edf1df7cc659\" class=\"colab-df-container\">\n",
              "    <div>\n",
              "<style scoped>\n",
              "    .dataframe tbody tr th:only-of-type {\n",
              "        vertical-align: middle;\n",
              "    }\n",
              "\n",
              "    .dataframe tbody tr th {\n",
              "        vertical-align: top;\n",
              "    }\n",
              "\n",
              "    .dataframe thead th {\n",
              "        text-align: right;\n",
              "    }\n",
              "</style>\n",
              "<table border=\"1\" class=\"dataframe\">\n",
              "  <thead>\n",
              "    <tr style=\"text-align: right;\">\n",
              "      <th></th>\n",
              "      <th>Date</th>\n",
              "      <th>Time</th>\n",
              "      <th>Item</th>\n",
              "      <th>Price</th>\n",
              "      <th>Quantity</th>\n",
              "      <th>Total</th>\n",
              "      <th>Customer ID</th>\n",
              "      <th>Payment Method</th>\n",
              "      <th>Employee ID</th>\n",
              "      <th>Customer Satisfaction</th>\n",
              "      <th>Weather</th>\n",
              "      <th>Special Offers</th>\n",
              "    </tr>\n",
              "  </thead>\n",
              "  <tbody>\n",
              "    <tr>\n",
              "      <th>0</th>\n",
              "      <td>2024-04-01</td>\n",
              "      <td>12:15</td>\n",
              "      <td>Sandwich</td>\n",
              "      <td>4.5</td>\n",
              "      <td>2</td>\n",
              "      <td>9.0</td>\n",
              "      <td>1</td>\n",
              "      <td>Cash</td>\n",
              "      <td>101</td>\n",
              "      <td>4</td>\n",
              "      <td>Sunny</td>\n",
              "      <td>Yes</td>\n",
              "    </tr>\n",
              "    <tr>\n",
              "      <th>1</th>\n",
              "      <td>2024-04-01</td>\n",
              "      <td>12:30</td>\n",
              "      <td>Drink</td>\n",
              "      <td>1.5</td>\n",
              "      <td>1</td>\n",
              "      <td>1.5</td>\n",
              "      <td>2</td>\n",
              "      <td>Card</td>\n",
              "      <td>102</td>\n",
              "      <td>3</td>\n",
              "      <td>Sunny</td>\n",
              "      <td>No</td>\n",
              "    </tr>\n",
              "    <tr>\n",
              "      <th>2</th>\n",
              "      <td>2024-04-01</td>\n",
              "      <td>12:45</td>\n",
              "      <td>Salad</td>\n",
              "      <td>5.0</td>\n",
              "      <td>1</td>\n",
              "      <td>5.0</td>\n",
              "      <td>3</td>\n",
              "      <td>Mobile Payment</td>\n",
              "      <td>103</td>\n",
              "      <td>5</td>\n",
              "      <td>Cloudy</td>\n",
              "      <td>Yes</td>\n",
              "    </tr>\n",
              "    <tr>\n",
              "      <th>3</th>\n",
              "      <td>2024-04-01</td>\n",
              "      <td>13:00</td>\n",
              "      <td>Burger</td>\n",
              "      <td>5.5</td>\n",
              "      <td>1</td>\n",
              "      <td>5.5</td>\n",
              "      <td>4</td>\n",
              "      <td>Cash</td>\n",
              "      <td>104</td>\n",
              "      <td>4</td>\n",
              "      <td>Sunny</td>\n",
              "      <td>No</td>\n",
              "    </tr>\n",
              "    <tr>\n",
              "      <th>4</th>\n",
              "      <td>2024-04-01</td>\n",
              "      <td>13:15</td>\n",
              "      <td>Sandwich</td>\n",
              "      <td>4.5</td>\n",
              "      <td>1</td>\n",
              "      <td>4.5</td>\n",
              "      <td>5</td>\n",
              "      <td>Card</td>\n",
              "      <td>105</td>\n",
              "      <td>3</td>\n",
              "      <td>Sunny</td>\n",
              "      <td>Yes</td>\n",
              "    </tr>\n",
              "  </tbody>\n",
              "</table>\n",
              "</div>\n",
              "    <div class=\"colab-df-buttons\">\n",
              "\n",
              "  <div class=\"colab-df-container\">\n",
              "    <button class=\"colab-df-convert\" onclick=\"convertToInteractive('df-4fde9e7a-eedf-4688-97de-edf1df7cc659')\"\n",
              "            title=\"Convert this dataframe to an interactive table.\"\n",
              "            style=\"display:none;\">\n",
              "\n",
              "  <svg xmlns=\"http://www.w3.org/2000/svg\" height=\"24px\" viewBox=\"0 -960 960 960\">\n",
              "    <path d=\"M120-120v-720h720v720H120Zm60-500h600v-160H180v160Zm220 220h160v-160H400v160Zm0 220h160v-160H400v160ZM180-400h160v-160H180v160Zm440 0h160v-160H620v160ZM180-180h160v-160H180v160Zm440 0h160v-160H620v160Z\"/>\n",
              "  </svg>\n",
              "    </button>\n",
              "\n",
              "  <style>\n",
              "    .colab-df-container {\n",
              "      display:flex;\n",
              "      gap: 12px;\n",
              "    }\n",
              "\n",
              "    .colab-df-convert {\n",
              "      background-color: #E8F0FE;\n",
              "      border: none;\n",
              "      border-radius: 50%;\n",
              "      cursor: pointer;\n",
              "      display: none;\n",
              "      fill: #1967D2;\n",
              "      height: 32px;\n",
              "      padding: 0 0 0 0;\n",
              "      width: 32px;\n",
              "    }\n",
              "\n",
              "    .colab-df-convert:hover {\n",
              "      background-color: #E2EBFA;\n",
              "      box-shadow: 0px 1px 2px rgba(60, 64, 67, 0.3), 0px 1px 3px 1px rgba(60, 64, 67, 0.15);\n",
              "      fill: #174EA6;\n",
              "    }\n",
              "\n",
              "    .colab-df-buttons div {\n",
              "      margin-bottom: 4px;\n",
              "    }\n",
              "\n",
              "    [theme=dark] .colab-df-convert {\n",
              "      background-color: #3B4455;\n",
              "      fill: #D2E3FC;\n",
              "    }\n",
              "\n",
              "    [theme=dark] .colab-df-convert:hover {\n",
              "      background-color: #434B5C;\n",
              "      box-shadow: 0px 1px 3px 1px rgba(0, 0, 0, 0.15);\n",
              "      filter: drop-shadow(0px 1px 2px rgba(0, 0, 0, 0.3));\n",
              "      fill: #FFFFFF;\n",
              "    }\n",
              "  </style>\n",
              "\n",
              "    <script>\n",
              "      const buttonEl =\n",
              "        document.querySelector('#df-4fde9e7a-eedf-4688-97de-edf1df7cc659 button.colab-df-convert');\n",
              "      buttonEl.style.display =\n",
              "        google.colab.kernel.accessAllowed ? 'block' : 'none';\n",
              "\n",
              "      async function convertToInteractive(key) {\n",
              "        const element = document.querySelector('#df-4fde9e7a-eedf-4688-97de-edf1df7cc659');\n",
              "        const dataTable =\n",
              "          await google.colab.kernel.invokeFunction('convertToInteractive',\n",
              "                                                    [key], {});\n",
              "        if (!dataTable) return;\n",
              "\n",
              "        const docLinkHtml = 'Like what you see? Visit the ' +\n",
              "          '<a target=\"_blank\" href=https://colab.research.google.com/notebooks/data_table.ipynb>data table notebook</a>'\n",
              "          + ' to learn more about interactive tables.';\n",
              "        element.innerHTML = '';\n",
              "        dataTable['output_type'] = 'display_data';\n",
              "        await google.colab.output.renderOutput(dataTable, element);\n",
              "        const docLink = document.createElement('div');\n",
              "        docLink.innerHTML = docLinkHtml;\n",
              "        element.appendChild(docLink);\n",
              "      }\n",
              "    </script>\n",
              "  </div>\n",
              "\n",
              "\n",
              "<div id=\"df-ad774f89-4b7f-4f7d-a5ca-81c78f077646\">\n",
              "  <button class=\"colab-df-quickchart\" onclick=\"quickchart('df-ad774f89-4b7f-4f7d-a5ca-81c78f077646')\"\n",
              "            title=\"Suggest charts\"\n",
              "            style=\"display:none;\">\n",
              "\n",
              "<svg xmlns=\"http://www.w3.org/2000/svg\" height=\"24px\"viewBox=\"0 0 24 24\"\n",
              "     width=\"24px\">\n",
              "    <g>\n",
              "        <path d=\"M19 3H5c-1.1 0-2 .9-2 2v14c0 1.1.9 2 2 2h14c1.1 0 2-.9 2-2V5c0-1.1-.9-2-2-2zM9 17H7v-7h2v7zm4 0h-2V7h2v10zm4 0h-2v-4h2v4z\"/>\n",
              "    </g>\n",
              "</svg>\n",
              "  </button>\n",
              "\n",
              "<style>\n",
              "  .colab-df-quickchart {\n",
              "      --bg-color: #E8F0FE;\n",
              "      --fill-color: #1967D2;\n",
              "      --hover-bg-color: #E2EBFA;\n",
              "      --hover-fill-color: #174EA6;\n",
              "      --disabled-fill-color: #AAA;\n",
              "      --disabled-bg-color: #DDD;\n",
              "  }\n",
              "\n",
              "  [theme=dark] .colab-df-quickchart {\n",
              "      --bg-color: #3B4455;\n",
              "      --fill-color: #D2E3FC;\n",
              "      --hover-bg-color: #434B5C;\n",
              "      --hover-fill-color: #FFFFFF;\n",
              "      --disabled-bg-color: #3B4455;\n",
              "      --disabled-fill-color: #666;\n",
              "  }\n",
              "\n",
              "  .colab-df-quickchart {\n",
              "    background-color: var(--bg-color);\n",
              "    border: none;\n",
              "    border-radius: 50%;\n",
              "    cursor: pointer;\n",
              "    display: none;\n",
              "    fill: var(--fill-color);\n",
              "    height: 32px;\n",
              "    padding: 0;\n",
              "    width: 32px;\n",
              "  }\n",
              "\n",
              "  .colab-df-quickchart:hover {\n",
              "    background-color: var(--hover-bg-color);\n",
              "    box-shadow: 0 1px 2px rgba(60, 64, 67, 0.3), 0 1px 3px 1px rgba(60, 64, 67, 0.15);\n",
              "    fill: var(--button-hover-fill-color);\n",
              "  }\n",
              "\n",
              "  .colab-df-quickchart-complete:disabled,\n",
              "  .colab-df-quickchart-complete:disabled:hover {\n",
              "    background-color: var(--disabled-bg-color);\n",
              "    fill: var(--disabled-fill-color);\n",
              "    box-shadow: none;\n",
              "  }\n",
              "\n",
              "  .colab-df-spinner {\n",
              "    border: 2px solid var(--fill-color);\n",
              "    border-color: transparent;\n",
              "    border-bottom-color: var(--fill-color);\n",
              "    animation:\n",
              "      spin 1s steps(1) infinite;\n",
              "  }\n",
              "\n",
              "  @keyframes spin {\n",
              "    0% {\n",
              "      border-color: transparent;\n",
              "      border-bottom-color: var(--fill-color);\n",
              "      border-left-color: var(--fill-color);\n",
              "    }\n",
              "    20% {\n",
              "      border-color: transparent;\n",
              "      border-left-color: var(--fill-color);\n",
              "      border-top-color: var(--fill-color);\n",
              "    }\n",
              "    30% {\n",
              "      border-color: transparent;\n",
              "      border-left-color: var(--fill-color);\n",
              "      border-top-color: var(--fill-color);\n",
              "      border-right-color: var(--fill-color);\n",
              "    }\n",
              "    40% {\n",
              "      border-color: transparent;\n",
              "      border-right-color: var(--fill-color);\n",
              "      border-top-color: var(--fill-color);\n",
              "    }\n",
              "    60% {\n",
              "      border-color: transparent;\n",
              "      border-right-color: var(--fill-color);\n",
              "    }\n",
              "    80% {\n",
              "      border-color: transparent;\n",
              "      border-right-color: var(--fill-color);\n",
              "      border-bottom-color: var(--fill-color);\n",
              "    }\n",
              "    90% {\n",
              "      border-color: transparent;\n",
              "      border-bottom-color: var(--fill-color);\n",
              "    }\n",
              "  }\n",
              "</style>\n",
              "\n",
              "  <script>\n",
              "    async function quickchart(key) {\n",
              "      const quickchartButtonEl =\n",
              "        document.querySelector('#' + key + ' button');\n",
              "      quickchartButtonEl.disabled = true;  // To prevent multiple clicks.\n",
              "      quickchartButtonEl.classList.add('colab-df-spinner');\n",
              "      try {\n",
              "        const charts = await google.colab.kernel.invokeFunction(\n",
              "            'suggestCharts', [key], {});\n",
              "      } catch (error) {\n",
              "        console.error('Error during call to suggestCharts:', error);\n",
              "      }\n",
              "      quickchartButtonEl.classList.remove('colab-df-spinner');\n",
              "      quickchartButtonEl.classList.add('colab-df-quickchart-complete');\n",
              "    }\n",
              "    (() => {\n",
              "      let quickchartButtonEl =\n",
              "        document.querySelector('#df-ad774f89-4b7f-4f7d-a5ca-81c78f077646 button');\n",
              "      quickchartButtonEl.style.display =\n",
              "        google.colab.kernel.accessAllowed ? 'block' : 'none';\n",
              "    })();\n",
              "  </script>\n",
              "</div>\n",
              "\n",
              "    </div>\n",
              "  </div>\n"
            ],
            "application/vnd.google.colaboratory.intrinsic+json": {
              "type": "dataframe",
              "variable_name": "canteen",
              "summary": "{\n  \"name\": \"canteen\",\n  \"rows\": 200,\n  \"fields\": [\n    {\n      \"column\": \"Date\",\n      \"properties\": {\n        \"dtype\": \"object\",\n        \"num_unique_values\": 25,\n        \"samples\": [\n          \"2024-04-09\",\n          \"2024-04-17\",\n          \"2024-04-01\"\n        ],\n        \"semantic_type\": \"\",\n        \"description\": \"\"\n      }\n    },\n    {\n      \"column\": \"Time\",\n      \"properties\": {\n        \"dtype\": \"object\",\n        \"num_unique_values\": 9,\n        \"samples\": [\n          \"14:00\",\n          \"12:30\",\n          \"13:30\"\n        ],\n        \"semantic_type\": \"\",\n        \"description\": \"\"\n      }\n    },\n    {\n      \"column\": \"Item\",\n      \"properties\": {\n        \"dtype\": \"category\",\n        \"num_unique_values\": 4,\n        \"samples\": [\n          \"Drink\",\n          \"Burger\",\n          \"Sandwich\"\n        ],\n        \"semantic_type\": \"\",\n        \"description\": \"\"\n      }\n    },\n    {\n      \"column\": \"Price\",\n      \"properties\": {\n        \"dtype\": \"number\",\n        \"std\": 1.5601426941567407,\n        \"min\": 1.5,\n        \"max\": 5.5,\n        \"num_unique_values\": 4,\n        \"samples\": [\n          1.5,\n          5.5,\n          4.5\n        ],\n        \"semantic_type\": \"\",\n        \"description\": \"\"\n      }\n    },\n    {\n      \"column\": \"Quantity\",\n      \"properties\": {\n        \"dtype\": \"number\",\n        \"std\": 0,\n        \"min\": 1,\n        \"max\": 2,\n        \"num_unique_values\": 2,\n        \"samples\": [\n          1,\n          2\n        ],\n        \"semantic_type\": \"\",\n        \"description\": \"\"\n      }\n    },\n    {\n      \"column\": \"Total\",\n      \"properties\": {\n        \"dtype\": \"number\",\n        \"std\": 3.3598127490297323,\n        \"min\": 1.5,\n        \"max\": 11.0,\n        \"num_unique_values\": 8,\n        \"samples\": [\n          1.5,\n          3.0\n        ],\n        \"semantic_type\": \"\",\n        \"description\": \"\"\n      }\n    },\n    {\n      \"column\": \"Customer ID\",\n      \"properties\": {\n        \"dtype\": \"number\",\n        \"std\": 57,\n        \"min\": 1,\n        \"max\": 200,\n        \"num_unique_values\": 200,\n        \"samples\": [\n          96,\n          16\n        ],\n        \"semantic_type\": \"\",\n        \"description\": \"\"\n      }\n    },\n    {\n      \"column\": \"Payment Method\",\n      \"properties\": {\n        \"dtype\": \"category\",\n        \"num_unique_values\": 3,\n        \"samples\": [\n          \"Cash\",\n          \"Card\"\n        ],\n        \"semantic_type\": \"\",\n        \"description\": \"\"\n      }\n    },\n    {\n      \"column\": \"Employee ID\",\n      \"properties\": {\n        \"dtype\": \"number\",\n        \"std\": 57,\n        \"min\": 101,\n        \"max\": 300,\n        \"num_unique_values\": 200,\n        \"samples\": [\n          196,\n          116\n        ],\n        \"semantic_type\": \"\",\n        \"description\": \"\"\n      }\n    },\n    {\n      \"column\": \"Customer Satisfaction\",\n      \"properties\": {\n        \"dtype\": \"number\",\n        \"std\": 0,\n        \"min\": 3,\n        \"max\": 5,\n        \"num_unique_values\": 3,\n        \"samples\": [\n          4,\n          3\n        ],\n        \"semantic_type\": \"\",\n        \"description\": \"\"\n      }\n    },\n    {\n      \"column\": \"Weather\",\n      \"properties\": {\n        \"dtype\": \"category\",\n        \"num_unique_values\": 3,\n        \"samples\": [\n          \"Sunny\",\n          \"Cloudy\"\n        ],\n        \"semantic_type\": \"\",\n        \"description\": \"\"\n      }\n    },\n    {\n      \"column\": \"Special Offers\",\n      \"properties\": {\n        \"dtype\": \"category\",\n        \"num_unique_values\": 2,\n        \"samples\": [\n          \"No\",\n          \"Yes\"\n        ],\n        \"semantic_type\": \"\",\n        \"description\": \"\"\n      }\n    }\n  ]\n}"
            }
          },
          "metadata": {},
          "execution_count": 26
        }
      ]
    },
    {
      "cell_type": "markdown",
      "source": [
        "**Step 2: Tasks and Requirements**"
      ],
      "metadata": {
        "id": "JzQKWfspmHX5"
      }
    },
    {
      "cell_type": "markdown",
      "source": [
        "**2.1 Basic Python Programming**"
      ],
      "metadata": {
        "id": "L1gPadOgmRUY"
      }
    },
    {
      "cell_type": "markdown",
      "source": [
        "2.1.1 Variables :"
      ],
      "metadata": {
        "id": "_5SNx4yrmu-U"
      }
    },
    {
      "cell_type": "markdown",
      "source": [
        "First of all, I will create the following variables that can be useful"
      ],
      "metadata": {
        "id": "I_Mx45Ge4GSi"
      }
    },
    {
      "cell_type": "code",
      "source": [
        "shop_name = \"Canteen Delights\"\n",
        "start_date = \"2024-04-01\"\n",
        "end_date = \"2024-04-25\"\n",
        "Customer_ID = \"Customer ID\"\n",
        "date_to_analyze = \"Date\""
      ],
      "metadata": {
        "id": "jZW9QxSNoZDW"
      },
      "execution_count": 21,
      "outputs": []
    },
    {
      "cell_type": "markdown",
      "source": [
        "2.1.2 Lists :"
      ],
      "metadata": {
        "id": "tJCjbaiem2o1"
      }
    },
    {
      "cell_type": "markdown",
      "source": [
        "Here I list the different types of food items as well as payment methods availables"
      ],
      "metadata": {
        "id": "s6sdkfhf37m8"
      }
    },
    {
      "cell_type": "code",
      "source": [
        "menu_items = [\"Sandwich\", \"Drink\", \"Salad\", \"Burger\"]\n",
        "payment_methods = [\"Cash\", \"Card\", \"Mobile Payment\"]"
      ],
      "metadata": {
        "id": "R9bB1T0Mocmp"
      },
      "execution_count": 22,
      "outputs": []
    },
    {
      "cell_type": "markdown",
      "source": [
        "2.1.3 Dictionnary :"
      ],
      "metadata": {
        "id": "zoWoCaDgm7Iq"
      }
    },
    {
      "cell_type": "markdown",
      "source": [
        "For the dictionnary I defined personal information about employees which are their name and their job"
      ],
      "metadata": {
        "id": "TzU_20j33yEq"
      }
    },
    {
      "cell_type": "code",
      "source": [
        "employee_info = {\n",
        "    101: {\"name\": \"Jean\", \"Job\": \"Cashier\"},\n",
        "    102: {\"name\": \"Chloe\", \"Job\": \"Server\"},\n",
        "    103: {\"name\": \"Arthur\", \"Job\": \"Head Chef\"},\n",
        "    }"
      ],
      "metadata": {
        "id": "Q_6xeMrHpHRc"
      },
      "execution_count": 27,
      "outputs": []
    },
    {
      "cell_type": "markdown",
      "source": [
        "2.1.4 Loops :"
      ],
      "metadata": {
        "id": "Iyr8b7vEnCbZ"
      }
    },
    {
      "cell_type": "markdown",
      "source": [
        "Here I integer loops to find the food menu"
      ],
      "metadata": {
        "id": "PYqtlatg3rer"
      }
    },
    {
      "cell_type": "code",
      "source": [
        "print(\"Menu Items:\")\n",
        "for item in menu_items:\n",
        "  print(f\" {item}\")"
      ],
      "metadata": {
        "colab": {
          "base_uri": "https://localhost:8080/"
        },
        "id": "zNlamOs2DL5Y",
        "outputId": "d6f649f8-e7d4-4473-de73-2d6a1c4e193a"
      },
      "execution_count": 28,
      "outputs": [
        {
          "output_type": "stream",
          "name": "stdout",
          "text": [
            "Menu Items:\n",
            " Sandwich\n",
            " Drink\n",
            " Salad\n",
            " Burger\n"
          ]
        }
      ]
    },
    {
      "cell_type": "markdown",
      "source": [
        "I also use loops in order to find employees information that are associated with their employee ID"
      ],
      "metadata": {
        "id": "gWUu3sxY3n-c"
      }
    },
    {
      "cell_type": "code",
      "source": [
        "print(\"Employee Information :\")\n",
        "for emp_id, info in employee_info.items():\n",
        "    print(f\"Employee ID: {emp_id}, Name: {info['name']}, Job: {info['Job']}\")"
      ],
      "metadata": {
        "colab": {
          "base_uri": "https://localhost:8080/"
        },
        "id": "UJp3jhvGDPeF",
        "outputId": "58c0f80f-0c5a-4da4-a56b-4b296893c50d"
      },
      "execution_count": 29,
      "outputs": [
        {
          "output_type": "stream",
          "name": "stdout",
          "text": [
            "Employee Information :\n",
            "Employee ID: 101, Name: Jean, Job: Cashier\n",
            "Employee ID: 102, Name: Chloe, Job: Server\n",
            "Employee ID: 103, Name: Arthur, Job: Head Chef\n"
          ]
        }
      ]
    },
    {
      "cell_type": "markdown",
      "source": [
        "2.1.5 Conditional Statement :"
      ],
      "metadata": {
        "id": "g9JM5WimndOb"
      }
    },
    {
      "cell_type": "markdown",
      "source": [
        "For the conditional statement, I will assign the customer’s satisfaction status according to the score given"
      ],
      "metadata": {
        "id": "0j5hQU_l3Tew"
      }
    },
    {
      "cell_type": "code",
      "source": [
        "def analyze_customer_satisfaction(satisfaction_score):\n",
        "  if satisfaction_score == 5 :\n",
        "    return \"Very satisfied\"\n",
        "  elif satisfaction_score == 4 :\n",
        "    return \"Satisfied\"\n",
        "  elif satisfaction_score == 3 :\n",
        "    return \"Neutral\"\n",
        "  elif satisfaction_score == 2 :\n",
        "    return \"Dissatisfied\"\n",
        "  elif satisfaction_score == 1 :\n",
        "    return \"Very dissatisfied\"\n",
        "  else :\n",
        "    return \"Invalid Satisfaction Score\"\n",
        "print(\"Customer satisfaction analysis :\")\n",
        "print(analyze_customer_satisfaction(4))\n",
        "print(analyze_customer_satisfaction(1))\n",
        "print(analyze_customer_satisfaction(3))"
      ],
      "metadata": {
        "colab": {
          "base_uri": "https://localhost:8080/"
        },
        "id": "MyBGkvVSFdV4",
        "outputId": "e26276b9-ccdf-4425-eb1e-3cb62b53930b"
      },
      "execution_count": 48,
      "outputs": [
        {
          "output_type": "stream",
          "name": "stdout",
          "text": [
            "Customer satisfaction analysis :\n",
            "Satisfied\n",
            "Very dissatisfied\n",
            "Neutral\n"
          ]
        }
      ]
    },
    {
      "cell_type": "markdown",
      "source": [
        "2.1.6 Reusable Function :"
      ],
      "metadata": {
        "id": "frVuJ_kZnn43"
      }
    },
    {
      "cell_type": "markdown",
      "source": [
        "I will now Calculate the total and average revenue for a given date and it's reusable because I can ask for each date or period, I have just to change the \"date_to_analyze\""
      ],
      "metadata": {
        "id": "ou5Rauzd23IO"
      }
    },
    {
      "cell_type": "code",
      "source": [
        "def calculate_average_daily_revenue(canteen, date):\n",
        "  transactions_for_date = canteen[canteen[\"Date\"] == date]\n",
        "  if len(transactions_for_date) == 0:\n",
        "    return None, None\n",
        "  total_revenue = transactions_for_date[\"Total\"].sum()\n",
        "  average_revenue = transactions_for_date[\"Total\"].mean()\n",
        "  return total_revenue, average_revenue\n",
        "\n",
        "date_to_analyze = \"2024-04-12\"\n",
        "transactions_for_date = canteen[canteen[\"Date\"] == date_to_analyze]\n",
        "total_revenue = transactions_for_date[\"Total\"].sum()\n",
        "average_revenue = transactions_for_date[\"Total\"].mean()\n",
        "\n",
        "total_revenue, average_revenue = calculate_average_daily_revenue(canteen, date_to_analyze)\n",
        "\n",
        "if total_revenue is not None:\n",
        "    print(f\"Daily Revenue Analysis for {date_to_analyze} :\")\n",
        "    print(f\"Total Revenue: {total_revenue}$\")\n",
        "    print(f\"Average Transaction Revenue: {average_revenue}$\")\n",
        "else:\n",
        "     print(f\"No transactions for {date_to_analyze} found.\")"
      ],
      "metadata": {
        "colab": {
          "base_uri": "https://localhost:8080/"
        },
        "id": "KkIvcU32R9tD",
        "outputId": "5914034b-4f70-4dd2-b90e-8502c00fc78c"
      },
      "execution_count": 31,
      "outputs": [
        {
          "output_type": "stream",
          "name": "stdout",
          "text": [
            "Daily Revenue Analysis for 2024-04-12 :\n",
            "Total Revenue: 48.0$\n",
            "Average Transaction Revenue: 6.0$\n"
          ]
        }
      ]
    },
    {
      "cell_type": "markdown",
      "source": [
        "**2.2 Data Manipulation :**"
      ],
      "metadata": {
        "id": "bkHk8mBareo2"
      }
    },
    {
      "cell_type": "markdown",
      "source": [
        "2.2.1 Load Data :"
      ],
      "metadata": {
        "id": "V1RNa5oBr3zM"
      }
    },
    {
      "cell_type": "markdown",
      "source": [
        "First of all I will Load Data"
      ],
      "metadata": {
        "id": "YXzw63E120VP"
      }
    },
    {
      "cell_type": "code",
      "source": [
        "import pandas as pd"
      ],
      "metadata": {
        "id": "6U6L32RIMYuW"
      },
      "execution_count": 32,
      "outputs": []
    },
    {
      "cell_type": "code",
      "source": [
        "canteen = pd.read_csv(\"https://raw.githubusercontent.com/Cazsol25/FinalProject/refs/heads/main/canteen_shop_data.csv\")"
      ],
      "metadata": {
        "id": "85NIBZNGMFSB"
      },
      "execution_count": 34,
      "outputs": []
    },
    {
      "cell_type": "markdown",
      "source": [
        "2.2.2 Inspect Data :"
      ],
      "metadata": {
        "id": "G8_N3gM7tLQo"
      }
    },
    {
      "cell_type": "markdown",
      "source": [
        "In a second time I Inspect Data with first the head of the data set to see if data looks relevant"
      ],
      "metadata": {
        "id": "cqcJ4Ler2x3w"
      }
    },
    {
      "cell_type": "code",
      "source": [
        "print(\"Initial Data Inspection\")\n",
        "print(canteen.head())"
      ],
      "metadata": {
        "colab": {
          "base_uri": "https://localhost:8080/"
        },
        "id": "C8O7vpttMHCb",
        "outputId": "c931f660-19ac-40cf-f219-ed4b15a9323f"
      },
      "execution_count": 35,
      "outputs": [
        {
          "output_type": "stream",
          "name": "stdout",
          "text": [
            "Initial Data Inspection\n",
            "         Date   Time      Item  Price  Quantity  Total  Customer ID  \\\n",
            "0  2024-04-01  12:15  Sandwich    4.5         2    9.0            1   \n",
            "1  2024-04-01  12:30     Drink    1.5         1    1.5            2   \n",
            "2  2024-04-01  12:45     Salad    5.0         1    5.0            3   \n",
            "3  2024-04-01  13:00    Burger    5.5         1    5.5            4   \n",
            "4  2024-04-01  13:15  Sandwich    4.5         1    4.5            5   \n",
            "\n",
            "   Payment Method  Employee ID  Customer Satisfaction Weather Special Offers  \n",
            "0            Cash          101                      4   Sunny            Yes  \n",
            "1            Card          102                      3   Sunny             No  \n",
            "2  Mobile Payment          103                      5  Cloudy            Yes  \n",
            "3            Cash          104                      4   Sunny             No  \n",
            "4            Card          105                      3   Sunny            Yes  \n"
          ]
        }
      ]
    },
    {
      "cell_type": "code",
      "source": [
        "print(canteen.info())"
      ],
      "metadata": {
        "colab": {
          "base_uri": "https://localhost:8080/"
        },
        "id": "TmsRxDr2OTqM",
        "outputId": "24fd1fa1-4894-4bbe-edf1-fc99045d2e2e"
      },
      "execution_count": 36,
      "outputs": [
        {
          "output_type": "stream",
          "name": "stdout",
          "text": [
            "<class 'pandas.core.frame.DataFrame'>\n",
            "RangeIndex: 200 entries, 0 to 199\n",
            "Data columns (total 12 columns):\n",
            " #   Column                 Non-Null Count  Dtype  \n",
            "---  ------                 --------------  -----  \n",
            " 0   Date                   200 non-null    object \n",
            " 1   Time                   200 non-null    object \n",
            " 2   Item                   200 non-null    object \n",
            " 3   Price                  200 non-null    float64\n",
            " 4   Quantity               200 non-null    int64  \n",
            " 5   Total                  200 non-null    float64\n",
            " 6   Customer ID            200 non-null    int64  \n",
            " 7   Payment Method         200 non-null    object \n",
            " 8   Employee ID            200 non-null    int64  \n",
            " 9   Customer Satisfaction  200 non-null    int64  \n",
            " 10  Weather                200 non-null    object \n",
            " 11  Special Offers         200 non-null    object \n",
            "dtypes: float64(2), int64(4), object(6)\n",
            "memory usage: 18.9+ KB\n",
            "None\n"
          ]
        }
      ]
    },
    {
      "cell_type": "markdown",
      "source": [
        "Here I will use the command describe to obtain mathematics information like the mean price of total order, as well as the minimum and the maximum values."
      ],
      "metadata": {
        "id": "3nIVTEmO2uLI"
      }
    },
    {
      "cell_type": "code",
      "source": [
        "print(canteen.describe())"
      ],
      "metadata": {
        "colab": {
          "base_uri": "https://localhost:8080/"
        },
        "id": "RrWA2LYqOU1l",
        "outputId": "378905e2-bbf7-45e7-c213-4ded6640ad55"
      },
      "execution_count": 37,
      "outputs": [
        {
          "output_type": "stream",
          "name": "stdout",
          "text": [
            "            Price    Quantity       Total  Customer ID  Employee ID  \\\n",
            "count  200.000000  200.000000  200.000000   200.000000   200.000000   \n",
            "mean     4.125000    1.365000    5.910000   100.500000   200.500000   \n",
            "std      1.560143    0.482638    3.359813    57.879185    57.879185   \n",
            "min      1.500000    1.000000    1.500000     1.000000   101.000000   \n",
            "25%      3.750000    1.000000    4.125000    50.750000   150.750000   \n",
            "50%      4.750000    1.000000    5.000000   100.500000   200.500000   \n",
            "75%      5.125000    2.000000    9.000000   150.250000   250.250000   \n",
            "max      5.500000    2.000000   11.000000   200.000000   300.000000   \n",
            "\n",
            "       Customer Satisfaction  \n",
            "count             200.000000  \n",
            "mean                3.895000  \n",
            "std                 0.785532  \n",
            "min                 3.000000  \n",
            "25%                 3.000000  \n",
            "50%                 4.000000  \n",
            "75%                 5.000000  \n",
            "max                 5.000000  \n"
          ]
        }
      ]
    },
    {
      "cell_type": "markdown",
      "source": [
        "After, thanks to the command canteen.isnull, I will ask if their is missing values in the dataset and obtain the number of missing value for each column."
      ],
      "metadata": {
        "id": "b3FPIFhE2nyy"
      }
    },
    {
      "cell_type": "code",
      "source": [
        "print(\"\\nMissing values before handling:\")\n",
        "print(canteen.isnull().sum())"
      ],
      "metadata": {
        "colab": {
          "base_uri": "https://localhost:8080/"
        },
        "id": "xE_4dF-tNcuS",
        "outputId": "508efc9e-5993-4dd0-e0c8-2787bb0d4d6d"
      },
      "execution_count": 38,
      "outputs": [
        {
          "output_type": "stream",
          "name": "stdout",
          "text": [
            "\n",
            "Missing values before handling:\n",
            "Date                     0\n",
            "Time                     0\n",
            "Item                     0\n",
            "Price                    0\n",
            "Quantity                 0\n",
            "Total                    0\n",
            "Customer ID              0\n",
            "Payment Method           0\n",
            "Employee ID              0\n",
            "Customer Satisfaction    0\n",
            "Weather                  0\n",
            "Special Offers           0\n",
            "dtype: int64\n"
          ]
        }
      ]
    },
    {
      "cell_type": "markdown",
      "source": [
        "2.2.3 Filter :"
      ],
      "metadata": {
        "id": "Sij8VuBGuS2W"
      }
    },
    {
      "cell_type": "markdown",
      "source": [
        "In order to see which customer had discount thanks to special offers, I will filter the dataset with all the \"YES\" responses to Special Offers."
      ],
      "metadata": {
        "id": "8w57OFcA2jp4"
      }
    },
    {
      "cell_type": "code",
      "source": [
        "special_offer_transactions = canteen[canteen[\"Special Offers\"] == \"Yes\"]\n",
        "print(\"Transactions with Special Offers\")\n",
        "print(special_offer_transactions[Customer_ID])"
      ],
      "metadata": {
        "colab": {
          "base_uri": "https://localhost:8080/"
        },
        "id": "KfIAx1k1b9uj",
        "outputId": "b7d6cc85-108a-45ed-870e-b85433b2f968"
      },
      "execution_count": 39,
      "outputs": [
        {
          "output_type": "stream",
          "name": "stdout",
          "text": [
            "Transactions with Special Offers\n",
            "0        1\n",
            "2        3\n",
            "4        5\n",
            "6        7\n",
            "8        9\n",
            "      ... \n",
            "191    192\n",
            "193    194\n",
            "195    196\n",
            "197    198\n",
            "199    200\n",
            "Name: Customer ID, Length: 100, dtype: int64\n"
          ]
        }
      ]
    },
    {
      "cell_type": "markdown",
      "source": [
        "2.2.4 Sort :"
      ],
      "metadata": {
        "id": "IQYoqnlIubNU"
      }
    },
    {
      "cell_type": "markdown",
      "source": [
        "Now i will sort the Total earning values of the 12th April by descending (From the highest to lowest)"
      ],
      "metadata": {
        "id": "WBRQ6R0Y2d35"
      }
    },
    {
      "cell_type": "code",
      "source": [
        "sorted_transactions = canteen.sort_values(by=[\"Total\"], ascending=[False])\n",
        "print(\"Sorted Transactions\")\n",
        "print(sorted_transactions.loc[sorted_transactions[\"Date\"] == \"2024-04-08\"])"
      ],
      "metadata": {
        "colab": {
          "base_uri": "https://localhost:8080/"
        },
        "id": "qTa8FCRQdyYN",
        "outputId": "d264510f-8412-46f0-de1c-f4ad3625df8d"
      },
      "execution_count": null,
      "outputs": [
        {
          "output_type": "stream",
          "name": "stdout",
          "text": [
            "Sorted Transactions\n",
            "          Date   Time      Item  Price  Quantity  Total  Customer ID  \\\n",
            "59  2024-04-08  12:45    Burger    5.5         2   11.0           60   \n",
            "62  2024-04-08  13:30     Salad    5.0         2   10.0           63   \n",
            "56  2024-04-08  12:00  Sandwich    4.5         2    9.0           57   \n",
            "63  2024-04-08  13:45    Burger    5.5         1    5.5           64   \n",
            "58  2024-04-08  12:30     Salad    5.0         1    5.0           59   \n",
            "60  2024-04-08  13:00  Sandwich    4.5         1    4.5           61   \n",
            "61  2024-04-08  13:15     Drink    1.5         1    1.5           62   \n",
            "57  2024-04-08  12:15     Drink    1.5         1    1.5           58   \n",
            "\n",
            "    Payment Method  Employee ID  Customer Satisfaction Weather Special Offers  \n",
            "59  Mobile Payment          160                      4   Sunny            Yes  \n",
            "62  Mobile Payment          163                      4   Sunny             No  \n",
            "56  Mobile Payment          157                      4   Sunny             No  \n",
            "63            Cash          164                      3  Cloudy            Yes  \n",
            "58            Card          159                      5   Rainy             No  \n",
            "60            Cash          161                      3  Cloudy             No  \n",
            "61            Card          162                      5   Rainy            Yes  \n",
            "57            Cash          158                      3  Cloudy            Yes  \n"
          ]
        }
      ]
    },
    {
      "cell_type": "markdown",
      "source": [
        "2.2.5 Group :"
      ],
      "metadata": {
        "id": "j_i3fhKHu9Y2"
      }
    },
    {
      "cell_type": "markdown",
      "source": [
        "I will use the function groupby to find the average earning by payment method"
      ],
      "metadata": {
        "id": "0gfAf9nP2JE_"
      }
    },
    {
      "cell_type": "code",
      "source": [
        "grouped_by_payment = canteen.groupby(\"Payment Method\")[\"Total\"].mean().reset_index()\n",
        "print(\"Average Total by Payment Method\")\n",
        "print(grouped_by_payment)"
      ],
      "metadata": {
        "colab": {
          "base_uri": "https://localhost:8080/"
        },
        "id": "vjPe8pxbu94j",
        "outputId": "583d0560-82e9-4cb1-c83c-f1e92254a2a0"
      },
      "execution_count": null,
      "outputs": [
        {
          "output_type": "stream",
          "name": "stdout",
          "text": [
            "Average Total by Payment Method\n",
            "   Payment Method     Total\n",
            "0            Card  6.970588\n",
            "1            Cash  4.762295\n",
            "2  Mobile Payment  5.880282\n"
          ]
        }
      ]
    },
    {
      "cell_type": "markdown",
      "source": [
        "**2.3 Mathematical Operations :**"
      ],
      "metadata": {
        "id": "lM8aFpF8xQRr"
      }
    },
    {
      "cell_type": "markdown",
      "source": [
        "2.3.1 Total sales :"
      ],
      "metadata": {
        "id": "VCZyzVkjOdRQ"
      }
    },
    {
      "cell_type": "markdown",
      "source": [
        "My first mathematical Operation is the total sales"
      ],
      "metadata": {
        "id": "HPglXeaD2Zh5"
      }
    },
    {
      "cell_type": "code",
      "source": [
        "total_sales = canteen[\"Total\"].sum()\n",
        "print(f\"Total Sales : {total_sales}$\")"
      ],
      "metadata": {
        "colab": {
          "base_uri": "https://localhost:8080/"
        },
        "id": "OK7wi62EwL7s",
        "outputId": "329a9feb-4e88-4fcb-d53c-dadeb174eb3b"
      },
      "execution_count": null,
      "outputs": [
        {
          "output_type": "stream",
          "name": "stdout",
          "text": [
            "Total Sales : 1182.0$\n"
          ]
        }
      ]
    },
    {
      "cell_type": "markdown",
      "source": [
        "2.3.2 Average item price :"
      ],
      "metadata": {
        "id": "FgOliNQ6Oiw5"
      }
    },
    {
      "cell_type": "code",
      "source": [
        "average_price_pandas = canteen[\"Price\"].mean()\n",
        "print(f\"Average Item Price : {average_price_pandas}$\")"
      ],
      "metadata": {
        "colab": {
          "base_uri": "https://localhost:8080/"
        },
        "id": "v92m9XMqKF5Q",
        "outputId": "c5730210-357b-4754-f528-5abaccb21f1b"
      },
      "execution_count": null,
      "outputs": [
        {
          "output_type": "stream",
          "name": "stdout",
          "text": [
            "Average Item Price : 4.125$\n"
          ]
        }
      ]
    },
    {
      "cell_type": "markdown",
      "source": [
        "2.3.3 Weight  of different Payment Method in Percentages :"
      ],
      "metadata": {
        "id": "llZXmh6BOqjv"
      }
    },
    {
      "cell_type": "markdown",
      "source": [
        "No I will create a model to calculate the percentage of each payment method used to better know the customers"
      ],
      "metadata": {
        "id": "MZVuEiYZ1wcd"
      }
    },
    {
      "cell_type": "code",
      "source": [
        "payment_counts = canteen[\"Payment Method\"].value_counts()\n",
        "payment_percentages = (payment_counts / len(canteen)) * 100\n",
        "print(\"Payment Method in Percentages\")\n",
        "print(payment_percentages)"
      ],
      "metadata": {
        "colab": {
          "base_uri": "https://localhost:8080/"
        },
        "id": "W6LDyhCrNFVr",
        "outputId": "ea019180-908f-4b88-dad5-deeb3efde12e"
      },
      "execution_count": null,
      "outputs": [
        {
          "output_type": "stream",
          "name": "stdout",
          "text": [
            "Payment Method in Percentages\n",
            "Payment Method\n",
            "Mobile Payment    35.5\n",
            "Card              34.0\n",
            "Cash              30.5\n",
            "Name: count, dtype: float64\n"
          ]
        }
      ]
    },
    {
      "cell_type": "markdown",
      "source": [
        "**2.4 Data visualization :**"
      ],
      "metadata": {
        "id": "ciXL3gEQc2_8"
      }
    },
    {
      "cell_type": "code",
      "source": [
        "import matplotlib.pyplot as plt\n",
        "import seaborn as sns"
      ],
      "metadata": {
        "id": "XWqJ3RO2tyzq"
      },
      "execution_count": 50,
      "outputs": []
    },
    {
      "cell_type": "markdown",
      "source": [
        "4.1. Bar Chart: Total Sales by Item :"
      ],
      "metadata": {
        "id": "jo4cvQfHzXA_"
      }
    },
    {
      "cell_type": "code",
      "source": [
        "sales_by_FoodItem = canteen.groupby(\"Item\")[\"Total\"].sum().sort_values()\n",
        "plt.figure(figsize=(10, 6))\n",
        "sales_by_FoodItem.plot(kind='bar', color=sns.color_palette(\"viridis\"))\n",
        "plt.title(\"Total Sales by Item\")\n",
        "plt.xlabel(\"Item\")\n",
        "plt.ylabel(\"Total Sales ($)\")\n",
        "plt.xticks(rotation=45)\n",
        "plt.tight_layout()\n",
        "plt.show()"
      ],
      "metadata": {
        "colab": {
          "base_uri": "https://localhost:8080/",
          "height": 607
        },
        "id": "GMGHAvu9tmLl",
        "outputId": "cc357be5-a8f0-4648-f590-5cfff7f5d7bb"
      },
      "execution_count": 56,
      "outputs": [
        {
          "output_type": "display_data",
          "data": {
            "text/plain": [
              "<Figure size 1000x600 with 1 Axes>"
            ],
            "image/png": "[encoded data removed]"
          },
          "metadata": {}
        }
      ]
    },
    {
      "cell_type": "markdown",
      "source": [
        "On this bar chart, we can see the total revenues generated by each food. The observation is that burgers generate the most revenues with almost 400 dollars, followed closely by the salad which generated about 370 dollars, then comes the mythical sandwich with about 340 dollars of revenue and last drink with about  80 dollars of sales.\n"
      ],
      "metadata": {
        "id": "YprDl7dV7APc"
      }
    },
    {
      "cell_type": "markdown",
      "source": [
        "4.2. Histograms: Distribution of Total and Customer Satisfaction :"
      ],
      "metadata": {
        "id": "v-tYhalvx92z"
      }
    },
    {
      "cell_type": "code",
      "source": [
        "plt.figure(figsize=(18, 9))\n",
        "plt.subplot(1, 2, 1)\n",
        "sns.histplot(canteen[\"Total\"], kde=True)\n",
        "plt.title(\"Distribution of Total Transaction Value\")\n",
        "plt.xlabel(\"Total Value ($)\")\n",
        "plt.ylabel(\"Frequency\")"
      ],
      "metadata": {
        "colab": {
          "base_uri": "https://localhost:8080/",
          "height": 813
        },
        "id": "ggoniHOg4ycW",
        "outputId": "50ac21fe-5d53-4059-b60a-d92755341c6e"
      },
      "execution_count": 54,
      "outputs": [
        {
          "output_type": "execute_result",
          "data": {
            "text/plain": [
              "Text(0, 0.5, 'Frequency')"
            ]
          },
          "metadata": {},
          "execution_count": 54
        },
        {
          "output_type": "display_data",
          "data": {
            "text/plain": [
              "<Figure size 1800x900 with 1 Axes>"
            ],
            "image/png": "[encoded data removed]"
          },
          "metadata": {}
        }
      ]
    },
    {
      "cell_type": "markdown",
      "source": [
        "Then I created a histogram to see the total frequency of each transaction per 1 dollar. What emerges is that there are a majority of transactions at 2, 5 and 11 dollars (between 45 and 55 for each), then there are about 25 transactions at 4 dollars and the same number pure 7 dollars. Finally we note that there are only a few transactions at 3 dollars and none below 2 dollars which means that items cost at least 2 dollars but also no transaction ranging from 6 to 8 dollars which also means that there is no item in sale at these prices, what would be interesting to do to expand the menu."
      ],
      "metadata": {
        "id": "cD7y_aJu-9_b"
      }
    },
    {
      "cell_type": "markdown",
      "source": [
        "4.3. Boxplot: Distribution of Total Sales per Payment Method :"
      ],
      "metadata": {
        "id": "XQ8RsFyl3aG0"
      }
    },
    {
      "cell_type": "code",
      "source": [
        "plt.figure(figsize=(10, 6))\n",
        "sns.boxplot(x=\"Payment Method\", y=\"Total\", data=canteen, palette=\"Set2\")\n",
        "plt.title(\"Distribution of Total Sales per Payment Method\")\n",
        "plt.xlabel(\"Payment Method\")\n",
        "plt.ylabel(\"Total Transaction Value ($)\")\n",
        "plt.tight_layout()\n",
        "plt.show()"
      ],
      "metadata": {
        "colab": {
          "base_uri": "https://localhost:8080/",
          "height": 698
        },
        "id": "mNn-SlwQ3XcF",
        "outputId": "6a342580-0c2d-43b5-dc80-a21c1a539c70"
      },
      "execution_count": 52,
      "outputs": [
        {
          "output_type": "stream",
          "name": "stderr",
          "text": [
            "<ipython-input-52-3efc24b65830>:2: FutureWarning: \n",
            "\n",
            "Passing `palette` without assigning `hue` is deprecated and will be removed in v0.14.0. Assign the `x` variable to `hue` and set `legend=False` for the same effect.\n",
            "\n",
            "  sns.boxplot(x=\"Payment Method\", y=\"Total\", data=canteen, palette=\"Set2\")\n"
          ]
        },
        {
          "output_type": "display_data",
          "data": {
            "text/plain": [
              "<Figure size 1000x600 with 1 Axes>"
            ],
            "image/png": "[encoded data removed]"
          },
          "metadata": {}
        }
      ]
    },
    {
      "cell_type": "markdown",
      "source": [
        "Now, this boxplot allows you to see the total sales according to different means of payments. First, I note that cash payments are made for the smallest transactions, for the majority between 2 and 5 dollars. Then the payments by bank card are made for payments between 5 and 10 dollars and finally consumers use mobile payments mostly for amounts between 5 and 9 dollars"
      ],
      "metadata": {
        "id": "r1lJNw8xGIpI"
      }
    },
    {
      "cell_type": "markdown",
      "source": [
        "**2.5 SQL Integration**"
      ],
      "metadata": {
        "id": "-9gYu5EoXsJr"
      }
    },
    {
      "cell_type": "markdown",
      "source": [
        "Fist I have to integrate SQL and import my db"
      ],
      "metadata": {
        "id": "-A_0Fft3wW-l"
      }
    },
    {
      "cell_type": "code",
      "source": [
        "print(\"SQL Integration\")"
      ],
      "metadata": {
        "colab": {
          "base_uri": "https://localhost:8080/"
        },
        "id": "cts6hWCqX5EO",
        "outputId": "14148059-309d-488e-b397-ed83ff3feee5"
      },
      "execution_count": 10,
      "outputs": [
        {
          "output_type": "stream",
          "name": "stdout",
          "text": [
            "SQL Integration\n"
          ]
        }
      ]
    },
    {
      "cell_type": "code",
      "source": [
        "!pip install sqlalchemy\n",
        "from sqlalchemy import create_engine, text\n",
        "\n",
        "Canteendb = \"sqlite:///canteen_data.db\"\n",
        "engine = create_engine(Canteendb)"
      ],
      "metadata": {
        "colab": {
          "base_uri": "https://localhost:8080/"
        },
        "id": "yTlJwq_RYDuE",
        "outputId": "9515d2c1-f452-4742-f2b6-794c63030bd9"
      },
      "execution_count": 13,
      "outputs": [
        {
          "output_type": "stream",
          "name": "stdout",
          "text": [
            "Requirement already satisfied: sqlalchemy in /usr/local/lib/python3.11/dist-packages (2.0.37)\n",
            "Requirement already satisfied: greenlet!=0.4.17 in /usr/local/lib/python3.11/dist-packages (from sqlalchemy) (3.1.1)\n",
            "Requirement already satisfied: typing-extensions>=4.6.0 in /usr/local/lib/python3.11/dist-packages (from sqlalchemy) (4.12.2)\n"
          ]
        }
      ]
    },
    {
      "cell_type": "code",
      "source": [
        "from sqlalchemy import Table, Column, Integer, String, MetaData"
      ],
      "metadata": {
        "id": "aIF8BNIou9V0"
      },
      "execution_count": 9,
      "outputs": []
    },
    {
      "cell_type": "code",
      "source": [
        "canteen.to_sql(\"sales_transactions\", engine, if_exists=\"replace\", index=False)\n",
        "\n",
        "print(\"Data successfully stored in database\")"
      ],
      "metadata": {
        "colab": {
          "base_uri": "https://localhost:8080/"
        },
        "id": "9OoTXMakw5EL",
        "outputId": "2a02793d-d896-4a26-9130-52371a33fb4c"
      },
      "execution_count": 43,
      "outputs": [
        {
          "output_type": "stream",
          "name": "stdout",
          "text": [
            "Data successfully stored in database\n"
          ]
        }
      ]
    },
    {
      "cell_type": "markdown",
      "source": [
        "Now I will make the query to ask which of the food item have the highest sale in average"
      ],
      "metadata": {
        "id": "DGU7kA_H06wT"
      }
    },
    {
      "cell_type": "code",
      "source": [
        "query_sql =\"\"\"\n",
        "SELECT Item, AVG(Total) AS average_sales\n",
        "FROM sales_transactions\n",
        "GROUP BY Item\n",
        "ORDER BY average_sales DESC\n",
        "LIMIT 1;\"\"\""
      ],
      "metadata": {
        "id": "7JEoSPcqvU4N"
      },
      "execution_count": 42,
      "outputs": []
    },
    {
      "cell_type": "code",
      "source": [
        "with engine.connect() as conn:\n",
        "    result = conn.execute(text(query_sql)).fetchone()\n",
        "\n",
        "if result:\n",
        "    item, avg_sales = result\n",
        "    print(f\"The item with the highest sales in average is: {item} with an average of ${avg_sales}\")\n",
        "else:\n",
        "    print(\"There is no data found.\")"
      ],
      "metadata": {
        "colab": {
          "base_uri": "https://localhost:8080/"
        },
        "id": "WltohWVLvh92",
        "outputId": "b2a358be-df60-4010-fcd8-bb894d8f4d6b"
      },
      "execution_count": 47,
      "outputs": [
        {
          "output_type": "stream",
          "name": "stdout",
          "text": [
            "The item with the highest sales in average is: Burger with an average of $8.03\n"
          ]
        }
      ]
    },
    {
      "cell_type": "markdown",
      "source": [
        "To conclude this project, this analysis revealed interesting insights, because we were able to compare which products made the most profit between burgers, salads and sandwiches and we have noticed that burgers generate more revenues. So one of my recommendation will be to broaden the choice of burgers with new ones to offer more diversity in choice for clients. Then, the histogram indicates that there is no transaction made between 6 and 8 € so I recommend to offer the possibility to customers to buy dishes in this price zone with the arrival of poke bowls to always more expand the range of products and generate more benefits. Finally, the means of payments are extremately well distributed with about 1/3 of transactions for each of the three so I have no recommendation on this subject, only that I observed that the payments by cards and mobile are for the vast majority used from 4 € so I advise to lower taxes if there is any for payments below this sum."
      ],
      "metadata": {
        "id": "njbCzF3r9SnB"
      }
    }
  ]
}